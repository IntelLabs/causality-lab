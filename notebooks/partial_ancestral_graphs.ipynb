{
 "cells": [
  {
   "cell_type": "markdown",
   "metadata": {
    "collapsed": true,
    "pycharm": {
     "name": "#%% md\n"
    }
   },
   "source": [
    "# Creating and Handling a Partial Ancestral Graph (PAG)\n",
    "\n",
    "First, let's import the PAG class and edge-mark types. In a PAG, three edge-mark types exist:\n",
    "1. Arrow head ...---> X\n",
    "2. Tail ...---- X\n",
    "3. Circle, a variant edge-mark the represents 'head or tail' ...---o X\n"
   ]
  },
  {
   "cell_type": "code",
   "execution_count": 1,
   "metadata": {
    "pycharm": {
     "name": "#%%\n"
    }
   },
   "outputs": [],
   "source": [
    "import sys\n",
    "sys.path.append('..')\n",
    "\n",
    "from graphical_models import PAG, arrow_head_types as Mark"
   ]
  },
  {
   "cell_type": "markdown",
   "metadata": {
    "pycharm": {
     "name": "#%% md\n"
    }
   },
   "source": [
    "For plotting the graph we need to import:"
   ]
  },
  {
   "cell_type": "code",
   "execution_count": 2,
   "metadata": {
    "pycharm": {
     "name": "#%%\n"
    }
   },
   "outputs": [],
   "source": [
    "from plot_utils import draw_graph"
   ]
  },
  {
   "cell_type": "markdown",
   "metadata": {
    "pycharm": {
     "name": "#%% md\n"
    }
   },
   "source": [
    "## Creating a PAG\n",
    "For creating a PAG  we need to first define a set of nodes. This set elements can any immutable object that returns a 1-3\n",
    "length discriptive string when str(object) is called. Commonly numeric values or short strings are used.\n",
    "In this example we in use short strings. The graph that we are creating is in Figure 2-(a) by Jaber et al. (2019)."
   ]
  },
  {
   "cell_type": "code",
   "execution_count": 3,
   "metadata": {
    "pycharm": {
     "name": "#%%\n"
    }
   },
   "outputs": [],
   "source": [
    "nodes = {'X1', 'X2', 'Y1', 'Y2', 'Y3', 'Y4', 'Y5'}"
   ]
  },
  {
   "cell_type": "markdown",
   "metadata": {
    "pycharm": {
     "name": "#%% md\n"
    }
   },
   "source": [
    "Next, we instantiate the PAG and set the graph edges."
   ]
  },
  {
   "cell_type": "code",
   "execution_count": 4,
   "metadata": {
    "pycharm": {
     "name": "#%%\n"
    }
   },
   "outputs": [],
   "source": [
    "pag = PAG(nodes)\n",
    "pag.add_edge('X1', 'X2', Mark.Directed, Mark.Directed)\n",
    "pag.add_edge('X1', 'Y1', Mark.Tail, Mark.Directed)\n",
    "pag.add_edge('X1', 'Y3', Mark.Directed, Mark.Directed)\n",
    "pag.add_edge('X2', 'Y1', Mark.Directed, Mark.Directed)\n",
    "pag.add_edge('X2', 'Y2', Mark.Tail, Mark.Directed)\n",
    "pag.add_edge('Y1', 'Y5', Mark.Directed, Mark.Circle)\n",
    "pag.add_edge('Y2', 'Y3', Mark.Directed, Mark.Directed)\n",
    "pag.add_edge('Y3', 'Y4', Mark.Directed, Mark.Circle)\n",
    "pag.add_edge('Y4', 'Y5', Mark.Circle, Mark.Circle)"
   ]
  },
  {
   "cell_type": "markdown",
   "metadata": {
    "pycharm": {
     "name": "#%% md\n"
    }
   },
   "source": [
    "## Calculating PAG Properties\n",
    "\n",
    "In this example we find the visible edges (Richardon and Spirtes, 2002) and dc-components (Jaber et al., 2018)\n",
    "of the PAG."
   ]
  },
  {
   "cell_type": "code",
   "execution_count": 5,
   "metadata": {
    "pycharm": {
     "name": "#%%\n"
    }
   },
   "outputs": [
    {
     "name": "stdout",
     "output_type": "stream",
     "text": [
      "[{'Y3', 'X1', 'X2', 'Y2', 'Y1'}, {'Y5'}, {'Y4'}]\n"
     ]
    }
   ],
   "source": [
    "dc_components = pag.find_definite_c_components()  # dc-components\n",
    "print(dc_components)"
   ]
  },
  {
   "cell_type": "code",
   "execution_count": 6,
   "metadata": {
    "pycharm": {
     "name": "#%%\n"
    }
   },
   "outputs": [
    {
     "name": "stdout",
     "output_type": "stream",
     "text": [
      "X2 ---> Y2\n",
      "X1 ---> Y1\n"
     ]
    }
   ],
   "source": [
    "pag.find_visible_edges()  # find 'visible' edges\n",
    "for edge in pag.visible_edges:\n",
    "    print(str(edge[0]),'--->', str(edge[1]))"
   ]
  },
  {
   "cell_type": "markdown",
   "metadata": {
    "pycharm": {
     "name": "#%% md\n"
    }
   },
   "source": [
    "## Plotting a PAG\n",
    "\n",
    "Finally, for plotting the PAG, rendering color-coded edges, we use the following method."
   ]
  },
  {
   "cell_type": "code",
   "execution_count": 7,
   "metadata": {
    "pycharm": {
     "name": "#%%\n"
    }
   },
   "outputs": [
    {
     "data": {
      "text/plain": "<Figure size 432x288 with 1 Axes>",
      "image/png": "[encoded data removed]"
     },
     "metadata": {
      "needs_background": "light"
     },
     "output_type": "display_data"
    }
   ],
   "source": [
    "# Figure 1 (b)\n",
    "fig = draw_graph(pag)"
   ]
  },
  {
   "cell_type": "markdown",
   "metadata": {},
   "source": [
    "---\n",
    "## References\n",
    "\n",
    "* Jaber, Amin, Jiji Zhang, and Elias Bareinboim. \"Causal identification under Markov equivalence: Completeness results.\"\n",
    "In International Conference on Machine Learning, pp. 2981-2989. PMLR, 2019.\n",
    "* Richardson, Thomas, and Peter Spirtes. \"Ancestral graph Markov models.\"\n",
    "The Annals of Statistics 30, no. 4 (2002): 962-1030.\n",
    "* Jaber, Amin, Jiji Zhang, and Elias Bareinboim.\n",
    "\"A graphical criterion for effect identification in equivalence classes of causal diagrams.\"\n",
    "In Proceedings of the Twenty-Seventh International Joint Conference on Artificial Intelligence. 2018.\n",
    "\n"
   ]
  }
 ],
 "metadata": {
  "kernelspec": {
   "display_name": "Python 3 (ipykernel)",
   "language": "python",
   "name": "python3"
  },
  "language_info": {
   "codemirror_mode": {
    "name": "ipython",
    "version": 3
   },
   "file_extension": ".py",
   "mimetype": "text/x-python",
   "name": "python",
   "nbconvert_exporter": "python",
   "pygments_lexer": "ipython3",
   "version": "3.8.11"
  }
 },
 "nbformat": 4,
 "nbformat_minor": 1
}