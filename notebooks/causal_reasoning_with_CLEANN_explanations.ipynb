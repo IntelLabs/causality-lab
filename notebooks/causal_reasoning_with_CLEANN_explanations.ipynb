{
 "cells": [
  {
   "cell_type": "markdown",
   "metadata": {
    "collapsed": false,
    "pycharm": {
     "name": "#%% md\n"
    }
   },
   "source": [
    "# Causal Explanations from Attention in Neural Networks (CLEANN)\n",
    "\n",
    "The CLEANN algorithm relies on attention-based causal-discovery (ABCD) and the causal interpretation of self-attention to produce explanations for a pre-trained Transformer neural network. The algorithm is described in the paper: *Causal Interpretation of Self-Attention in Pre-Trained Transformers*  \\[[Rohekar et al., 2023](https://arxiv.org/abs/2310.20307 \"Rohekar Raanan, Gurwicz Yaniv, and Nisimov Shami. NeurIPS 2023\")\\], as well as  demonstrated for recommender systems in the paper: *CLEAR: Causal Explanations from Attention in Neural Recommenders* \\[[Nisimov et al., 2022](https://arxiv.org/abs/2210.10621 \"Nisimov Shami, Rohekar Raanan, Gurwicz Yaniv, Koren Guy, and Novik Gal. CONSEQUENCES, RecSys 2022\")\\]. In this notebook we will demonstrate how to use CLEANN to explain the outcome of pre-trained Transformer models. To this end, we will use a simple example. For more practical cases, such as explaining sentiment classification of movie reviews (NLP) and explaining recommendations (RecSys), please see the papers.\n",
    "\n"
   ]
  },
  {
   "cell_type": "markdown",
   "metadata": {
    "collapsed": false,
    "pycharm": {
     "name": "#%% md\n"
    }
   },
   "source": [
    "For running the code in this notebook two additional packages are required to be installed in the virtual environment: PyTorch and Hugging Face Transformers. We start with importing the required packages, classes, and functions."
   ]
  },
  {
   "cell_type": "code",
   "execution_count": 25,
   "metadata": {
    "collapsed": false,
    "pycharm": {
     "name": "#%%\n"
    }
   },
   "outputs": [],
   "source": [
    "from causal_reasoning import CLEANN\n",
    "from plot_utils import draw_graph\n",
    "from experiment_utils.explanation import exhaustive_search_explanation\n",
    "\n",
    "import torch\n",
    "from transformers import BertForMaskedLM, BertConfig, BertTokenizer, logging\n",
    "\n",
    "from itertools import combinations\n",
    "logging.set_verbosity_error()"
   ]
  },
  {
   "cell_type": "markdown",
   "metadata": {},
   "source": [
    "This notebook describes three main steps:\n",
    "1. [Define explanation](#define-explanation)\n",
    "2. [Load a Pre-Trained Model](#load-a-pre-trained-model)\n",
    "3. [Explain a Masked Token Prediction](#explain-a-masked-token-prediction)"
   ]
  },
  {
   "cell_type": "markdown",
   "metadata": {
    "collapsed": false,
    "pycharm": {
     "name": "#%% md\n"
    }
   },
   "source": [
    "## Define Explanation\n",
    "\n",
    "First, let's define explanation. Given is an input sequence of tokens, where one of the tokens (called target) is masked. Then, a given model (e.g., BERT) predicts the masked target token. The goal of explanation is to identify the minimal subset of input tokens that are responsible for the predicted target token. That is, had the explanation tokens not been present, the predicted token would have been different. We seek the shortest explanation (fewest tokens), efficiently."
   ]
  },
  {
   "cell_type": "markdown",
   "metadata": {
    "collapsed": false,
    "pycharm": {
     "name": "#%% md\n"
    }
   },
   "source": [
    "As an example we use the BERT base model \\[[Devlin et al., 2019](https://arxiv.org/abs/1810.04805 \"Jacob Devlin, Ming-Wei Chang, Kenton Lee, and Kristina Toutanova. NAACL-HLT 2019\")\\] for English text, and define the following. A subset of input tokens is as an explanation for the predicted target token, if by replacing the explanation tokens with '[PAD]' changes the prediction of the target.\n",
    "\n",
    "Let's define an explanation-testing function that tests if a subset of input tokens is a valid explanation for a predicted target token. The following is a function that returns the explanation-testing function."
   ]
  },
  {
   "cell_type": "code",
   "execution_count": 26,
   "metadata": {
    "collapsed": false,
    "pycharm": {
     "name": "#%%\n"
    }
   },
   "outputs": [],
   "source": [
    "def explanation_definer(token_predictor, tokens_list, explanation_mask, prediction_mask):\n",
    "    \"\"\"\n",
    "    A test if the given subset of the tokens can serve as an 'explanation' for the masked-token prediction.\n",
    "    :param token_predictor: a function that predicts a masked token.\n",
    "    :param tokens_list: a full list of tokens\n",
    "    :param explanation_mask: a token that will replace the explanation tokens when testing the explanation\n",
    "    :param prediction_mask: a masking token that will replace the target token when testing the explanation\n",
    "    :return: a testing function with input parameters:\n",
    "        explanation_token_pos: indexes of those tokens to be considered as explanation\n",
    "        target_pos: index of the target node to be explained\n",
    "    \"\"\"\n",
    "    def examine_explanation(explanation_token_pos: list, target_pos: int) -> bool:\n",
    "        \"\"\"\n",
    "        A function for testing if a subset of tokens can serve as an explanation for the target token.\n",
    "        :param explanation_token_pos: indexes of those tokens to be considered as explanation\n",
    "        :param target_pos: index of the target node to be explained\n",
    "        :return:\n",
    "        \"\"\"\n",
    "        masked_tokens = tokens_list.copy()\n",
    "        target_token = tokens_list[target_pos]\n",
    "        masked_tokens[target_pos] = prediction_mask  # e.g., '[MASK]'\n",
    "        for token_pos in explanation_token_pos:\n",
    "            masked_tokens[token_pos] = explanation_mask  # e.g., '[PAD]'\n",
    "\n",
    "        predicted_token = token_predictor(masked_tokens, target_pos)\n",
    "        return predicted_token != target_token\n",
    "\n",
    "    return examine_explanation"
   ]
  },
  {
   "cell_type": "markdown",
   "metadata": {
    "collapsed": false,
    "pycharm": {
     "name": "#%% md\n"
    }
   },
   "source": [
    "## Load a Pre-Trained Model\n",
    "In this example, we use load the following BERT model and create a token prediction function."
   ]
  },
  {
   "cell_type": "code",
   "execution_count": 27,
   "metadata": {
    "collapsed": false,
    "pycharm": {
     "name": "#%%\n"
    }
   },
   "outputs": [],
   "source": [
    "model_name = 'bert-base-uncased'\n",
    "bert_tokenizer = BertTokenizer.from_pretrained(model_name)\n",
    "config = BertConfig.from_pretrained(model_name, output_attentions=True)\n",
    "bert_model = BertForMaskedLM.from_pretrained(model_name, config=config)"
   ]
  },
  {
   "cell_type": "markdown",
   "metadata": {
    "collapsed": false,
    "pycharm": {
     "name": "#%% md\n"
    }
   },
   "source": [
    "The following is a function that takes as input a BERT model and returns a function that predicts a masked target token given a list of input tokens. "
   ]
  },
  {
   "cell_type": "code",
   "execution_count": 28,
   "metadata": {
    "collapsed": false,
    "pycharm": {
     "name": "#%%\n"
    }
   },
   "outputs": [],
   "source": [
    "def masked_token_predictor(model, tokenizer):\n",
    "    \"\"\"\n",
    "    Creates a function that takes a list of tokens as input and predicts the masked token using the BERT model.\n",
    "    :param model: a BERT model\n",
    "    :param tokenizer: a corresponding tokenizer\n",
    "    :return: a prediction function\n",
    "    \"\"\"\n",
    "    def predictor(masked_tokens, target_pos):\n",
    "        \"\"\"\n",
    "        A function that takes a list of tokens as input and predicts the masked token using the BERT model\n",
    "        :param masked_tokens: list of tokens\n",
    "        :param target_pos: index of the target node to be explained\n",
    "        :return: the predicted token\n",
    "        \"\"\"\n",
    "        in_ids = tokenizer.convert_tokens_to_ids(masked_tokens)\n",
    "        with torch.no_grad():\n",
    "            logits = model(torch.tensor([in_ids])).logits\n",
    "        predicted_token_id = logits[0, target_pos].argmax(axis=-1)\n",
    "        predicted_token = tokenizer.convert_ids_to_tokens([predicted_token_id])[0]\n",
    "        return predicted_token\n",
    "    return predictor\n",
    "\n",
    "token_unmasker = masked_token_predictor(bert_model, bert_tokenizer)  # create a function that predicts a masked token given a list of tokens"
   ]
  },
  {
   "cell_type": "markdown",
   "metadata": {
    "collapsed": false,
    "pycharm": {
     "name": "#%% md\n"
    }
   },
   "source": [
    "## Explain a Masked Token Prediction\n",
    "In this example we first mask one of the tokens in a sentence, and ask the pre-trained model to predict the masked token. We then ask the CLEANN algorithm to find the minimal explanation. The example sentence is:"
   ]
  },
  {
   "cell_type": "code",
   "execution_count": 29,
   "metadata": {
    "collapsed": false,
    "pycharm": {
     "name": "#%%\n"
    }
   },
   "outputs": [],
   "source": [
    "#      1   [2]  [3]   4  5   [6]     [7]    8  9   [10]  11  # index in the tokens list\n",
    "txt = 'The blue whale is the largest animal on the planet.'"
   ]
  },
  {
   "cell_type": "markdown",
   "metadata": {
    "collapsed": false,
    "pycharm": {
     "name": "#%% md\n"
    }
   },
   "source": [
    "and the masked token is 'largest' (6th token). Our explanation should consist of only the symbolic tokens and ignore (marginalize out) tokens related to grammar."
   ]
  },
  {
   "cell_type": "code",
   "execution_count": 30,
   "metadata": {
    "collapsed": false,
    "pycharm": {
     "name": "#%%\n"
    }
   },
   "outputs": [],
   "source": [
    "target_id = 6  # the token 'largest' will be masked\n",
    "nodes_of_interest = {2, 3, 6, 7, 10}  # indexes of tokens for which a graph will be learned\n",
    "encoded_input = bert_tokenizer(txt, return_tensors='pt')\n",
    "tokens = bert_tokenizer.convert_ids_to_tokens(encoded_input.input_ids[0])"
   ]
  },
  {
   "cell_type": "markdown",
   "metadata": {
    "collapsed": false,
    "pycharm": {
     "name": "#%% md\n"
    }
   },
   "source": [
    "Let's initialize the explanation testing function."
   ]
  },
  {
   "cell_type": "code",
   "execution_count": 31,
   "metadata": {
    "collapsed": false,
    "pycharm": {
     "name": "#%%\n"
    }
   },
   "outputs": [],
   "source": [
    "bert_explanation_tester = explanation_definer(token_predictor=token_unmasker, tokens_list=tokens,\n",
    "                                              explanation_mask='[PAD]',\n",
    "                                              prediction_mask='[MASK]')  # explanation tester"
   ]
  },
  {
   "cell_type": "markdown",
   "metadata": {
    "collapsed": false,
    "pycharm": {
     "name": "#%% md\n"
    }
   },
   "source": [
    "### Create a Ground Truth\n",
    "Before deriving an explanation using the CLEANN algorithm we exhaustively search for all explanations and create a ground-truth list of explanations. Later, we will compare CLEANN explanations with this ground truth."
   ]
  },
  {
   "cell_type": "code",
   "execution_count": 32,
   "metadata": {
    "collapsed": false,
    "pycharm": {
     "name": "#%%\n"
    }
   },
   "outputs": [
    {
     "name": "stdout",
     "output_type": "stream",
     "text": [
      "Exhaustive search result (ground truth): ['whale', 'animal', 'planet']\n",
      "Exhaustive search result (ground truth): ['blue', 'whale', 'animal', 'planet']\n"
     ]
    }
   ],
   "source": [
    "true_explanations_list = exhaustive_search_explanation(nodes_of_interest, target_id,\n",
    "                                                          bert_explanation_tester, search_minimal=False)\n",
    "for true_explanation in true_explanations_list:\n",
    "    explanation_tokens = [tokens[pos] for pos in true_explanation]\n",
    "    print('Exhaustive search result (ground truth):', explanation_tokens)"
   ]
  },
  {
   "cell_type": "markdown",
   "metadata": {
    "collapsed": false,
    "pycharm": {
     "name": "#%% md\n"
    }
   },
   "source": [
    "The ground truth includes two explanations, where the minimal one contains three tokens at positions: 3, 7, 10, which correspond to the words '**whale**', '**animal**', and '**planet**'. Note that whether this set of words is plausible explanation to the word 'largest' in the context of the sentence is irrelevant here. It depends on multiple factors amongst which are the corpus on which the model was trained and on the training procedure. For the purpose of our example, under the given BERT model and this example's definition of explanation, it serves as ground truth."
   ]
  },
  {
   "cell_type": "markdown",
   "metadata": {
    "collapsed": false,
    "pycharm": {
     "name": "#%% md\n"
    }
   },
   "source": [
    "### Find Explanations using CLEANN\n",
    "Finally, let's find explanations using the CLEANN algorithm. At its heart it relies on attention-based causal-discovery (ABCD) and the causal interpretation of self-attention, as described in the [paper](https://arxiv.org/abs/2310.20307 \"Causal Interpretation of Self-Attention in Pre-Trained Transformers. Rohekar, Raanan, Gurwicz Yaniv, and Nisimov Shami. NeurIPS 2023\"). After learning a graph using the attention matrix, the predicted token is explained using a PDS-tree rooted at the target token. For more details on PDS-tree and its meaning see the paper: *Iterative Causal Discovery in the Possible Presence of Latent Confounders and Selection Bias* \\[[Rohekar et al., 2021](https://arxiv.org/abs/2111.04095 \"Rohekar, Raanan, Shami Nisimov, Yaniv Gurwicz, and Gal Novik. NeurIPS 2021\")\\]."
   ]
  },
  {
   "cell_type": "markdown",
   "metadata": {
    "collapsed": false,
    "pycharm": {
     "name": "#%% md\n"
    }
   },
   "source": [
    "Feed-forward the input sequence of tokens:"
   ]
  },
  {
   "cell_type": "code",
   "execution_count": 33,
   "metadata": {
    "collapsed": false,
    "pycharm": {
     "name": "#%%\n"
    }
   },
   "outputs": [],
   "source": [
    "with torch.no_grad():\n",
    "        out = bert_model(**encoded_input)"
   ]
  },
  {
   "cell_type": "markdown",
   "metadata": {
    "collapsed": false,
    "pycharm": {
     "name": "#%% md\n"
    }
   },
   "source": [
    "Extract attention matrices from the deepest multi-head attention layer:"
   ]
  },
  {
   "cell_type": "code",
   "execution_count": 34,
   "metadata": {
    "collapsed": false,
    "pycharm": {
     "name": "#%%\n"
    }
   },
   "outputs": [],
   "source": [
    "last_mh_attention = out.attentions[-1]"
   ]
  },
  {
   "cell_type": "markdown",
   "metadata": {
    "collapsed": false,
    "pycharm": {
     "name": "#%% md\n"
    }
   },
   "source": [
    "Loop through all the heads and search for an explanation. For each head a new instance of CLEANN is created using that head's attention matrix. If an explanation is found, print it."
   ]
  },
  {
   "cell_type": "code",
   "execution_count": 35,
   "metadata": {
    "collapsed": false,
    "pycharm": {
     "name": "#%%\n"
    }
   },
   "outputs": [
    {
     "name": "stdout",
     "output_type": "stream",
     "text": [
      "Head 6\n",
      ">>> Found explanation: ['whale', 'animal', 'planet']\n",
      "Head 8\n",
      ">>> Found explanation: ['whale', 'animal', 'planet']\n",
      ">>> Found explanation: ['blue', 'whale', 'animal', 'planet']\n"
     ]
    }
   ],
   "source": [
    "found_explanations = dict()\n",
    "for head_id in range(last_mh_attention.shape[1]):\n",
    "    attention_head = last_mh_attention[0, head_id, :, :]\n",
    "    att = attention_head.numpy()  # attention matrix of current head\n",
    "\n",
    "    # Extract explanations\n",
    "    explainer = CLEANN(attention_matrix=att, num_samples=config.hidden_size, p_val_th=1e-2,\n",
    "                        explanation_tester=bert_explanation_tester,\n",
    "                        nodes_set=nodes_of_interest, search_minimal=False)\n",
    "    \n",
    "    head_explanations_list = explainer.explain(target_node_idx=target_id)\n",
    "    \n",
    "    found_explanations[head_id] = {'explanations': head_explanations_list,\n",
    "                                    'graph': explainer.graph}\n",
    "\n",
    "    if len(head_explanations_list) > 0:\n",
    "        print('Head', head_id)\n",
    "        for head_explanation in head_explanations_list:\n",
    "            explanation_tokens = [tokens[pos] for pos in sorted(head_explanation[0])]\n",
    "            print('>>> Found explanation:', explanation_tokens)"
   ]
  },
  {
   "cell_type": "markdown",
   "metadata": {
    "collapsed": false,
    "pycharm": {
     "name": "#%% md\n"
    }
   },
   "source": [
    "We can see that head 6 and head 8 produce the correct minimal explanation: \"*The blue **whale** is the \\[largest\\] **animal** on the **planet**.*\". We can also see that head 8 produces all the true explanations. Let's plot the corresponding graph. It represents an equivalence class in the form of a partial ancestral graph \\[Richardson et al., 2002\\]."
   ]
  },
  {
   "cell_type": "code",
   "execution_count": 36,
   "metadata": {
    "collapsed": false,
    "pycharm": {
     "name": "#%%\n"
    }
   },
   "outputs": [
    {
     "data": {
      "image/png": "[encoded data removed]",
      "text/plain": [
       "<Figure size 640x480 with 1 Axes>"
      ]
     },
     "metadata": {},
     "output_type": "display_data"
    }
   ],
   "source": [
    "node_labels = {node: tokens[node] for node in range(len(encoded_input.input_ids[0]))}\n",
    "fig = draw_graph(found_explanations[8]['graph'], node_labels=node_labels, node_size_factor=2.0)"
   ]
  },
  {
   "cell_type": "markdown",
   "metadata": {
    "collapsed": false,
    "pycharm": {
     "name": "#%% md\n"
    }
   },
   "source": [
    "## References\n",
    "* Rohekar Raanan, Gurwicz Yaniv, and Nisimov Shami. \"Causal interpretation of self-attention in pre-trained Transformers\". Advances in Neural Information Processing Systems (NeurIPS), 2023.\n",
    "* Nisimov Shami, Rohekar Raanan, Gurwicz Yaniv, Koren Guy, and Novik Gal. \"CLEAR: causal explanations from attention in neural recommenders\". Workshop on Causality, Counterfactuals and Sequential Decision-Making (CONSEQUENCES), Conference on Recommender Systems (RecSys), 2022.\n",
    "* Jacob Devlin, Ming-Wei Chang, Kenton Lee, and Kristina Toutanova. \"Bert: Pre-training of deep bidirectional transformers for language understanding\". In Proceedings of NAACL-HLT, pages 4171–4186, 2019.\n",
    "* Rohekar Raanan, Shami Nisimov, Yaniv Gurwicz, and Gal Novik. \"Iterative causal discovery in the possible presence of latent confounders and selection bias.\" Advances in Neural Information Processing Systems (NeurIPS), 2021.\n",
    "* Richardson Thomas, and Peter Spirtes. \"Ancestral graph Markov models\". The Annals of Statistics 30, no. 4, pages 962-1030, 2002."
   ]
  }
 ],
 "metadata": {
  "kernelspec": {
   "display_name": "Python 3",
   "language": "python",
   "name": "python3"
  },
  "language_info": {
   "codemirror_mode": {
    "name": "ipython",
    "version": 3
   },
   "file_extension": ".py",
   "mimetype": "text/x-python",
   "name": "python",
   "nbconvert_exporter": "python",
   "pygments_lexer": "ipython3",
   "version": "3.8.9"
  }
 },
 "nbformat": 4,
 "nbformat_minor": 0
}
