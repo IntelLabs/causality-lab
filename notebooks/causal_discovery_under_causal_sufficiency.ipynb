{
 "cells": [
  {
   "cell_type": "markdown",
   "source": [
    "# Causal Discovery under Causal Sufficiency\n",
    "\n",
    "In certain case, it is reasonable to assume that there are no latent confounders and no selection bias.\n",
    "In this case, we assume that given a dataset, the true underlying causal diagram, over the measured variables,\n",
    "is a directed acyclic graph (DAG).\n",
    "\n",
    "A common algorithm used in these cases is the PC algorithm (named after its inventors Peter Spirtes and Clark Glymour).\n",
    "An efficient algorithm is the recursive autonomy identification (RAI) algorithm.\n",
    "In the large sample limit, both algorithms a proved to recover the equivalence class of the true underlying DAG.\n",
    "This equivalence class is called completed partially directed graph (CPDAG), or essential graph.\n",
    "\n",
    "For demonstrating PC and RAI, we follow these steps."
   ],
   "metadata": {
    "collapsed": false
   }
  },
  {
   "cell_type": "markdown",
   "source": [
    "Initially, the required classes and methods are imported."
   ],
   "metadata": {
    "collapsed": false
   }
  },
  {
   "cell_type": "code",
   "execution_count": 139,
   "outputs": [],
   "source": [
    "import sys\n",
    "sys.path.append('..')\n",
    "\n",
    "import numpy as np\n",
    "from causal_discovery_utils.cond_indep_tests import CondIndepCMI\n",
    "from causal_discovery_algs import LearnStructRAI, LearnStructPC\n",
    "from causal_discovery_utils.data_utils import get_var_size\n",
    "from graphical_models import DAG, PDAG\n",
    "from causal_discovery_utils.performance_measures import structural_hamming_distance_cpdag, score_bdeu\n",
    "from experiment_utils.threshold_select_ci_test import search_threshold_bdeu\n",
    "from matplotlib import pyplot as plt"
   ],
   "metadata": {
    "collapsed": false,
    "pycharm": {
     "name": "#%%\n"
    }
   }
  },
  {
   "cell_type": "markdown",
   "source": [
    "## Experiment Setup\n",
    "\n",
    "Firstly, we will use the ALARM monitoring system (Beinlich et al., 1989) as the true underlying graph.\n",
    "It is a Bayesian network consisting of 37 nodes (8 diagnoses, 16 findings and 13 intermediate variables), and 46 edges.\n",
    "As an example, we use one dataset sampled from this Bayesian network by Tsamardinos et al. (2006).\n",
    "The full database they created, covering a range of Bayesian network and a range of datasets size can be found in\n",
    "the [supplementary material for the max-min hill-climbing (MMHC) algorithm](https://pages.mtu.edu/~lebrown/supplements/mmhc_paper/mmhc_index.html)."
   ],
   "metadata": {
    "collapsed": false
   }
  },
  {
   "cell_type": "markdown",
   "source": [
    "## Initialization\n",
    "Initially, we define the location and file name of the datasets and graph structure."
   ],
   "metadata": {
    "collapsed": false
   }
  },
  {
   "cell_type": "code",
   "execution_count": 140,
   "outputs": [],
   "source": [
    "data_name = 'Alarm1'  # the ALARM monitoring network (Beinlich et at., 1989)\n",
    "data_size = 500  # dataset size for learning\n",
    "data_ver = 1  # dataset version\n",
    "\n",
    "data_folder = '../example_data/' + data_name + '_data/'\n",
    "test_data_folder = '../example_data/' + data_name + '_testdata/'"
   ],
   "metadata": {
    "collapsed": false,
    "pycharm": {
     "name": "#%%\n"
    }
   }
  },
  {
   "cell_type": "markdown",
   "source": [
    "## Load Training Data\n",
    "The training data will be used to learn the underlying graph structure."
   ],
   "metadata": {
    "collapsed": false
   }
  },
  {
   "cell_type": "code",
   "execution_count": 141,
   "outputs": [],
   "source": [
    "data_train = np.loadtxt(data_folder + data_name + '_s' + str(data_size) + '_v' + str(data_ver) + '.txt',\n",
    "                        dtype=int)\n",
    "n_samples, n_vars = data_train.shape  # data is assumed a numpy 2d-array\n",
    "graph_nodes = set(range(n_vars))  # create a set containing the nodes indices"
   ],
   "metadata": {
    "collapsed": false,
    "pycharm": {
     "name": "#%%\n"
    }
   }
  },
  {
   "cell_type": "markdown",
   "source": [
    "The loaded data, `data_train`, is a 2D numpy array, where its first axis is the sample index\n",
    "and its second axis is the variable index."
   ],
   "metadata": {
    "collapsed": false
   }
  },
  {
   "cell_type": "markdown",
   "source": [
    "## Learn the Equivalence Class (CPDAG) of the Underlying DAGs\n",
    "\n",
    "Initially, we set the conditional independence test.\n",
    "We select the conditional mutual information (CMI) as it is suitable for estimating the level of correlation\n",
    "between discrete variables (all the variables in the ALARM network are discrete)."
   ],
   "metadata": {
    "collapsed": false
   }
  },
  {
   "cell_type": "code",
   "execution_count": 142,
   "outputs": [],
   "source": [
    "CITest = CondIndepCMI  # class of the ci test to be used"
   ],
   "metadata": {
    "collapsed": false,
    "pycharm": {
     "name": "#%%\n"
    }
   }
  },
  {
   "cell_type": "markdown",
   "source": [
    "In addition, we search the CMI threshold that maximizes the likelihood of the graph.\n",
    "This strategy was suggested by Yehezkel and Lerner (2009) for the RAI algorithm. We use it here\n",
    "for the PC algorithm as well. The method that searches for the threshold is `search_threshold_bdeu`.\n",
    "It utilizes the caching mechanism of the CI test class to search the threshold efficiently.\n",
    "\n",
    "Set the list of candidate thresholds."
   ],
   "metadata": {
    "collapsed": false
   }
  },
  {
   "cell_type": "code",
   "execution_count": 143,
   "outputs": [],
   "source": [
    "th_range = [i / 10000 + 0.01 for i in range(100)]  # list of candidate thresholds for CI test"
   ],
   "metadata": {
    "collapsed": false,
    "pycharm": {
     "name": "#%%\n"
    }
   }
  },
  {
   "cell_type": "markdown",
   "source": [
    "Find the threshold for RAI"
   ],
   "metadata": {
    "collapsed": false
   }
  },
  {
   "cell_type": "code",
   "execution_count": 144,
   "outputs": [
    {
     "name": "stdout",
     "output_type": "stream",
     "text": [
      "Selected RAI threshold = 0.0159\n"
     ]
    }
   ],
   "source": [
    "th_rai, all_scores_rai = search_threshold_bdeu(LearnStructRAI, data_train, CITest, th_range)\n",
    "print('Selected RAI threshold = {:.4f}'.format(th_rai))"
   ],
   "metadata": {
    "collapsed": false,
    "pycharm": {
     "name": "#%%\n"
    }
   }
  },
  {
   "cell_type": "markdown",
   "source": [
    "Find the threshold for PC"
   ],
   "metadata": {
    "collapsed": false
   }
  },
  {
   "cell_type": "code",
   "execution_count": 145,
   "outputs": [
    {
     "name": "stdout",
     "output_type": "stream",
     "text": [
      "Selected PC threshold = 0.0120\n"
     ]
    }
   ],
   "source": [
    "th_pc, all_scores_pc = search_threshold_bdeu(LearnStructPC, data_train, CITest, th_range)\n",
    "print('Selected PC threshold = {:.4f}'.format(th_pc))"
   ],
   "metadata": {
    "collapsed": false,
    "pycharm": {
     "name": "#%%\n"
    }
   }
  },
  {
   "cell_type": "markdown",
   "source": [
    "## Learn using the RAI algorithm\n",
    "First, instantiate a CI test with the selected threshold and training dataset"
   ],
   "metadata": {
    "collapsed": false
   }
  },
  {
   "cell_type": "code",
   "execution_count": 146,
   "outputs": [],
   "source": [
    "ci_test_rai = CITest(dataset=data_train, threshold=th_rai, count_tests=True)  # conditional independence test"
   ],
   "metadata": {
    "collapsed": false,
    "pycharm": {
     "name": "#%%\n"
    }
   }
  },
  {
   "cell_type": "markdown",
   "source": [
    "Then, instantiate an RAI learner"
   ],
   "metadata": {
    "collapsed": false
   }
  },
  {
   "cell_type": "code",
   "execution_count": 147,
   "outputs": [],
   "source": [
    "rai = LearnStructRAI(nodes_set=graph_nodes, ci_test=ci_test_rai)"
   ],
   "metadata": {
    "collapsed": false,
    "pycharm": {
     "name": "#%%\n"
    }
   }
  },
  {
   "cell_type": "markdown",
   "source": [
    "Finally, learn the structure"
   ],
   "metadata": {
    "collapsed": false
   }
  },
  {
   "cell_type": "code",
   "execution_count": 148,
   "outputs": [],
   "source": [
    "rai.learn_structure()  # learn structure"
   ],
   "metadata": {
    "collapsed": false,
    "pycharm": {
     "name": "#%%\n"
    }
   }
  },
  {
   "cell_type": "markdown",
   "source": [
    "## Learn using the PC algorithm\n",
    "\n",
    "Instantiate a CI test and a PC learner, and learn the structure."
   ],
   "metadata": {
    "collapsed": false
   }
  },
  {
   "cell_type": "code",
   "execution_count": 149,
   "outputs": [],
   "source": [
    "ci_test_pc = CITest(dataset=data_train, threshold=th_pc, count_tests=True)  # conditional independence test\n",
    "pc = LearnStructPC(nodes_set=graph_nodes, ci_test=ci_test_pc)\n",
    "pc.learn_structure()  # learn structure"
   ],
   "metadata": {
    "collapsed": false,
    "pycharm": {
     "name": "#%%\n"
    }
   }
  },
  {
   "cell_type": "markdown",
   "source": [
    "## Examine Results\n",
    "\n",
    "We compare the PC and RAI algorithms using three measures:\n",
    "1. *Complexity* in terms of the number of CI tests required for learning the graph\n",
    "2. *Structural Hamming distance* of the learned graph from the true underlying CPDAG\n",
    "3. *BDeu* score of the learned graph calculated using a novel, large, test dataset\n",
    "\n",
    "Initially, load the true underlying DAG and calculate its equivalence class CPDAG."
   ],
   "metadata": {
    "collapsed": false
   }
  },
  {
   "cell_type": "code",
   "execution_count": 150,
   "outputs": [],
   "source": [
    "# Load True Graph\n",
    "true_dag_np = np.loadtxt(data_folder + data_name + '_graph.txt', dtype=int)\n",
    "true_dag = DAG(graph_nodes)\n",
    "true_dag.init_from_adj_mat(true_dag_np)\n",
    "true_cpdag = PDAG(true_dag.nodes_set)\n",
    "true_dag.convert_to_cpdag(true_cpdag)  # create equivalence class of th true DAG\n",
    "\n",
    "# Load Test Data\n",
    "data_test = np.loadtxt(test_data_folder + data_name + '_testdata_s' + str(data_size) + '_v' + str(data_ver) + '.txt', dtype=int)"
   ],
   "metadata": {
    "collapsed": false,
    "pycharm": {
     "name": "#%%\n"
    }
   }
  },
  {
   "cell_type": "markdown",
   "source": [
    "### Examine the Quality of the Learned Graphs\n",
    "\n",
    "Calculate the structural Hamming distance of the graphs learned by each of the algorithms"
   ],
   "metadata": {
    "collapsed": false
   }
  },
  {
   "cell_type": "code",
   "execution_count": 151,
   "outputs": [],
   "source": [
    "shd_rai = structural_hamming_distance_cpdag(rai.graph, true_cpdag)\n",
    "shd_pc = structural_hamming_distance_cpdag(pc.graph, true_cpdag)"
   ],
   "metadata": {
    "collapsed": false,
    "pycharm": {
     "name": "#%%\n"
    }
   }
  },
  {
   "cell_type": "markdown",
   "source": [
    "Then, calculate the Bayesian score of the true graph and the learned graph using the novel test dataset, as well as the score using the training set"
   ],
   "metadata": {
    "collapsed": false
   }
  },
  {
   "cell_type": "code",
   "execution_count": 152,
   "outputs": [],
   "source": [
    "score_true_train = score_bdeu(true_dag, data_train, get_var_size(data_train))  # Bayesian score\n",
    "score_true_test = score_bdeu(true_dag, data_test, get_var_size(data_test))\n",
    "\n",
    "rai_dag = DAG(rai.graph.nodes_set)\n",
    "rai.graph.convert_to_dag(rai_dag)\n",
    "rai_score_train = score_bdeu(rai_dag, data_train, ci_test_rai.node_size)\n",
    "rai_score_test = score_bdeu(rai_dag, data_test, ci_test_rai.node_size)\n",
    "\n",
    "pc_dag = DAG(pc.graph.nodes_set)\n",
    "pc.graph.convert_to_dag(pc_dag)\n",
    "pc_score_train = score_bdeu(pc_dag, data_train, ci_test_pc.node_size)\n",
    "pc_score_test = score_bdeu(pc_dag, data_test, ci_test_pc.node_size)"
   ],
   "metadata": {
    "collapsed": false,
    "pycharm": {
     "name": "#%%\n"
    }
   }
  },
  {
   "cell_type": "markdown",
   "source": [
    "### Print Quality Measures of the Learned Structures\n",
    "\n",
    "Print Bayesian score of the graphs"
   ],
   "metadata": {
    "collapsed": false
   }
  },
  {
   "cell_type": "code",
   "execution_count": 153,
   "outputs": [
    {
     "name": "stdout",
     "output_type": "stream",
     "text": [
      "True graph BDeu: (train/test): \t-5060 / -48038\n",
      "RAI BDeu (train/test):  \t-5194 / -49219\n",
      "PC BDeu  (train/test):  \t-5681 / -53806\n"
     ]
    }
   ],
   "source": [
    "print('True graph BDeu: (train/test): \\t{:.0f} / {:.0f}'.format(score_true_train, score_true_test))\n",
    "print('RAI BDeu (train/test):  \\t{:.0f} / {:.0f}'.format(rai_score_train, rai_score_test))\n",
    "print('PC BDeu  (train/test):  \\t{:.0f} / {:.0f}'.format(pc_score_train, pc_score_test))"
   ],
   "metadata": {
    "collapsed": false,
    "pycharm": {
     "name": "#%%\n"
    }
   }
  },
  {
   "cell_type": "markdown",
   "source": [
    "Print structural hamming distance"
   ],
   "metadata": {
    "collapsed": false
   }
  },
  {
   "cell_type": "code",
   "execution_count": 154,
   "outputs": [
    {
     "name": "stdout",
     "output_type": "stream",
     "text": [
      "RAI. \tEdges: extra|missing 6 7 \tOrientation: extra|missing|revered 0 3 2 \tTotal SHD: 18\n",
      "PC. \tEdges: extra|missing 8 14 \tOrientation: extra|missing|revered 0 5 0 \tTotal SHD: 27\n"
     ]
    }
   ],
   "source": [
    "def print_shd(shd, alg_name):\n",
    "    print(alg_name, '\\tEdges: extra|missing', shd['edge']['extra'], shd['edge']['missing'],\n",
    "          '\\tOrientation: extra|missing|revered',\n",
    "          shd['arrowhead']['extra'], shd['arrowhead']['missing'], shd['arrowhead']['reversed'],\n",
    "          '\\tTotal SHD:', shd['total'])\n",
    "\n",
    "print_shd(shd_rai, 'RAI.')\n",
    "print_shd(shd_pc, 'PC.')\n"
   ],
   "metadata": {
    "collapsed": false,
    "pycharm": {
     "name": "#%%\n"
    }
   }
  },
  {
   "cell_type": "markdown",
   "source": [
    "Plot the number of CI tests required by each algorithm"
   ],
   "metadata": {
    "collapsed": false
   }
  },
  {
   "cell_type": "code",
   "execution_count": 155,
   "outputs": [
    {
     "data": {
      "text/plain": "<Figure size 432x288 with 1 Axes>",
      "image/png": "[encoded data removed]"
     },
     "metadata": {
      "needs_background": "light"
     },
     "output_type": "display_data"
    }
   ],
   "source": [
    "num_ci_order_to_plot = 5\n",
    "ci_orders = np.array(range(num_ci_order_to_plot), dtype=float)\n",
    "plt.figure()\n",
    "plt.bar(ci_orders-0.15, ci_test_rai.test_counter[0:num_ci_order_to_plot], width=0.3, align='center',\n",
    "        color=[0, 0.25, 0.25])\n",
    "plt.bar(ci_orders+0.15, ci_test_pc.test_counter[0:num_ci_order_to_plot], width=0.3, align='center',\n",
    "        color=[1, 0.5, 0])\n",
    "plt.title('number of CI test')\n",
    "plt.xlabel('conditioning set size')\n",
    "plt.legend(['RAI', 'PC'])\n",
    "\n",
    "plt.show()"
   ],
   "metadata": {
    "collapsed": false,
    "pycharm": {
     "name": "#%%\n"
    }
   }
  },
  {
   "cell_type": "markdown",
   "source": [
    "---\n",
    "## References\n",
    "\n",
    "* Beinlich, Ingo A., Henri Jacques Suermondt, R. Martin Chavez, and Gregory F. Cooper. \"The ALARM monitoring system: A case study with two probabilistic inference techniques for belief networks.\" In AIME 89, pp. 247-256. Springer, Berlin, Heidelberg, 1989.\n",
    "* Tsamardinos, Ioannis, Laura E. Brown, and Constantin F. Aliferis. \"The max-min hill-climbing Bayesian network structure learning algorithm.\" Machine learning 65, no. 1 (2006): 31-78.\n",
    "* Yehezkel, Raanan, and Boaz Lerner. \"Bayesian Network Structure Learning by Recursive Autonomy Identification.\" Journal of Machine Learning Research 10, no. 7 (2009)."
   ],
   "metadata": {
    "collapsed": false
   }
  }
 ],
 "metadata": {
  "kernelspec": {
   "display_name": "Python 3",
   "language": "python",
   "name": "python3"
  },
  "language_info": {
   "codemirror_mode": {
    "name": "ipython",
    "version": 2
   },
   "file_extension": ".py",
   "mimetype": "text/x-python",
   "name": "python",
   "nbconvert_exporter": "python",
   "pygments_lexer": "ipython2",
   "version": "2.7.6"
  }
 },
 "nbformat": 4,
 "nbformat_minor": 0
}