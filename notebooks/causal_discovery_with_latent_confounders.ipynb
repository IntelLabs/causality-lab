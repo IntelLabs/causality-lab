{
 "cells": [
  {
   "cell_type": "markdown",
   "metadata": {},
   "source": [
    "# Causal Discovery in the Presence of Latent Confounders\n",
    "\n",
    "We learn a causal graph from observed data, in the possible presence of latent confounders and selection bias.\n",
    "Here we assume that the true underlying causal diagram is a directed acyclic graph (DAG), $\\mathcal{D}(\\mathbf{O}, \\mathbf{L}, \\mathbf{S})$, where $\\mathbf{O}$, $\\mathbf{L}$, and $\\mathbf{S}$ are observed, latent confounders, and selection variables, respectively.\n",
    "For this DAG, we assume causal Markov and faithfulness assumptions.\n",
    "In this setting, a maximal ancestral graph (MAG) defined over $\\mathbf{O}$ is often used to represent the DAG.\n",
    "\n",
    "The ICD algorithm learns a partial ancestral graph (PAG),\n",
    "which is an equivalence class of the true causal graph (an equivalence class of MAGs).\n",
    "\n",
    "For demonstrating the usage of ICD we follow these steps:\n",
    "1. Setup experiment (create training data)\n",
    "2. Define a conditional independence function to be used by the ICD algorithm\n",
    "3. Learn a causal graph using the ICD algorithm\n",
    "4. Calculate the accuracy of the learned graph\n",
    "5. Compare the performance of the ICD algorithm to the FCI algorithm"
   ]
  },
  {
   "cell_type": "markdown",
   "metadata": {},
   "source": [
    "Initially, the required classes and methods are imported."
   ]
  },
  {
   "cell_type": "code",
   "execution_count": 1,
   "metadata": {
    "pycharm": {
     "name": "#%%\n"
    }
   },
   "outputs": [],
   "source": [
    "import sys\n",
    "sys.path.append('..')\n",
    "\n",
    "import random\n",
    "import numpy as np\n",
    "from causal_discovery_algs import LearnStructICD, LearnStructFCI\n",
    "from causal_discovery_utils.cond_indep_tests import CondIndepParCorr  # import a CI test that estimates partial correlation\n",
    "from experiment_utils.synthetic_graphs import create_random_dag_with_latents, sample_data_from_dag\n",
    "from causal_discovery_utils.performance_measures import calc_structural_accuracy_pag, find_true_pag\n",
    "from matplotlib import pyplot as plt"
   ]
  },
  {
   "cell_type": "markdown",
   "metadata": {},
   "source": [
    "## Experiment Setup\n",
    "\n",
    "Initially, we will create the data that will be used in this experiment. Here, we will randomly create a small causal DAG\n",
    "and create a probabilistic model by assigning linear relations and normally distributed noise."
   ]
  },
  {
   "cell_type": "code",
   "execution_count": 2,
   "metadata": {
    "pycharm": {
     "name": "#%%\n"
    }
   },
   "outputs": [],
   "source": [
    "rand_seed = 42  # arbitrary seed (ASCII code of the Asterisk symbol)\n",
    "random.seed(rand_seed)\n",
    "np.random.seed(rand_seed)"
   ]
  },
  {
   "cell_type": "markdown",
   "metadata": {},
   "source": [
    "Setup simulation parameters"
   ]
  },
  {
   "cell_type": "code",
   "execution_count": 3,
   "metadata": {
    "pycharm": {
     "name": "#%%\n"
    }
   },
   "outputs": [],
   "source": [
    "num_nodes = 15\n",
    "num_records = 1000\n",
    "connectivity_coeff = 2.0\n",
    "min_lin_coeff = 0.5  # minimal 'strength' of an edge\n",
    "max_lin_coeff = 2.0  # maximal 'strength' of an edge\n",
    "alpha = 0.01"
   ]
  },
  {
   "cell_type": "markdown",
   "metadata": {},
   "source": [
    "Generate a random DAG, $\\mathcal{D}(\\mathbf{O},\\mathbf{L},\\mathbf{S=\\emptyset})$, to serve as the\n",
    "true underlying causal diagram."
   ]
  },
  {
   "cell_type": "code",
   "execution_count": 4,
   "metadata": {
    "pycharm": {
     "name": "#%%\n"
    }
   },
   "outputs": [],
   "source": [
    "dag, observed_set, latents_set = create_random_dag_with_latents(\n",
    "    num_nodes,\n",
    "    connectivity_coeff\n",
    ")"
   ]
  },
  {
   "cell_type": "markdown",
   "metadata": {},
   "source": [
    "Find the PAG (equivalence class) corresponding to the true DAG"
   ]
  },
  {
   "cell_type": "code",
   "execution_count": 5,
   "metadata": {
    "pycharm": {
     "name": "#%%\n"
    }
   },
   "outputs": [],
   "source": [
    "true_pag = find_true_pag(dag, observed_set)"
   ]
  },
  {
   "cell_type": "markdown",
   "metadata": {},
   "source": [
    "Sample a dataset from the DAG by quantifying the edges and adding normally distributed noise"
   ]
  },
  {
   "cell_type": "code",
   "execution_count": 6,
   "metadata": {
    "pycharm": {
     "name": "#%%\n"
    }
   },
   "outputs": [],
   "source": [
    "dataset = sample_data_from_dag(\n",
    "    dag,\n",
    "    num_records,\n",
    "    min_edge_weight=min_lin_coeff, max_edge_weight=max_lin_coeff\n",
    ")"
   ]
  },
  {
   "cell_type": "markdown",
   "metadata": {},
   "source": [
    "## Define a Conditional Independence Test\n",
    "\n",
    "Constraint-based algorithms, such as ICD and FCI, employ a statistical hypothesis test for estimating\n",
    "if two variables are statistically independent, conditioned on a set of variables.\n",
    "Several such conditional independence (CI) are implemented.\n",
    "Here, we use a CI test based on partial correlation, which is suitable for our linear-Gaussian case.\n",
    "A class instance is created."
   ]
  },
  {
   "cell_type": "code",
   "execution_count": 7,
   "metadata": {
    "pycharm": {
     "name": "#%%\n"
    }
   },
   "outputs": [],
   "source": [
    "par_corr_icd = CondIndepParCorr(\n",
    "    dataset=dataset,\n",
    "    threshold=alpha,\n",
    "    count_tests=True,\n",
    "    use_cache=True\n",
    ")"
   ]
  },
  {
   "cell_type": "markdown",
   "metadata": {},
   "source": [
    "We enabled *count_test* so the number of unique CI tests is recorded per conditioning set size.\n",
    "It is not necessary to for the normal operation of the CI test and the ICD algorithm\n",
    "Also, We enabled caching to make sure that the statistic for the same CI test is not calculated more than once.\n",
    "Nevertheless, ICD does not perform the same CI test more than once."
   ]
  },
  {
   "cell_type": "markdown",
   "metadata": {},
   "source": [
    "## Learn a PAG using the ICD algorithm\n",
    "\n",
    "First an instance of the ICD class is created. The CI-test to be used during learning is provided here.\n",
    "Then, the method *learn_structure* is called for learning the graph.\n",
    "At this stage, the learned graph is stored within the class instance and\n",
    "the number of CI tests that were performed is stored in the CI test class."
   ]
  },
  {
   "cell_type": "code",
   "execution_count": 8,
   "metadata": {
    "pycharm": {
     "name": "#%%\n"
    }
   },
   "outputs": [],
   "source": [
    "icd = LearnStructICD(observed_set, par_corr_icd)  # instantiate an ICD learner\n",
    "icd.learn_structure()  # learn the PAG\n",
    "learned_pag_icd = icd.graph"
   ]
  },
  {
   "cell_type": "markdown",
   "metadata": {},
   "source": [
    "## Calculate the Accuracy of the Learned Graph\n",
    "\n",
    "Here, we calculate the precision and recall of the skeleton (ignoring the edge-marks),\n",
    "and the accuracy of the orientation."
   ]
  },
  {
   "cell_type": "code",
   "execution_count": 9,
   "metadata": {
    "pycharm": {
     "name": "#%%\n"
    }
   },
   "outputs": [],
   "source": [
    "icd_result = calc_structural_accuracy_pag(\n",
    "    pag_tested=learned_pag_icd,\n",
    "    pag_correct=true_pag\n",
    ")"
   ]
  },
  {
   "cell_type": "markdown",
   "metadata": {},
   "source": [
    "## Compare the Performance the ICD Algorithm to the FCI Algorithm\n",
    "\n",
    "First, we learn a PAG using the FCI algorithm. We repeat the same steps used for learning with ICD."
   ]
  },
  {
   "cell_type": "code",
   "execution_count": 10,
   "metadata": {
    "pycharm": {
     "name": "#%%\n"
    }
   },
   "outputs": [],
   "source": [
    "# Learn the PAG\n",
    "par_corr_fci = CondIndepParCorr(dataset=dataset, threshold=alpha, count_tests=True, use_cache=True)  # CI test\n",
    "fci = LearnStructFCI(observed_set, par_corr_fci)  # instantiate an ICD learner\n",
    "fci.learn_structure()  # learn the PAG\n",
    "learned_pag_fci = fci.graph\n",
    "\n",
    "# Calculate structural errors: FCI algorithm\n",
    "fci_result = calc_structural_accuracy_pag(pag_tested=learned_pag_fci, pag_correct=true_pag)"
   ]
  },
  {
   "cell_type": "markdown",
   "metadata": {},
   "source": [
    "For easy plotting, we define the following function."
   ]
  },
  {
   "cell_type": "code",
   "execution_count": 11,
   "metadata": {
    "pycharm": {
     "name": "#%%\n"
    }
   },
   "outputs": [],
   "source": [
    "def print_structural_accuracy(structural_accuracy: dict):\n",
    "    print('Edge precision: {:.2f}'.format(structural_accuracy['edge_precision']))\n",
    "    print('Edge recall: {:.2f}'.format(structural_accuracy['edge_recall']))\n",
    "    print('F1 Score: {:.2f}'.format(structural_accuracy['edge_F1']))\n",
    "    print('Orientation accuracy: {:.2f}'.format(structural_accuracy['orientation_correctness']))"
   ]
  },
  {
   "cell_type": "markdown",
   "metadata": {},
   "source": [
    "Finally, we print the accuracy of the learned PAG, and plot the number of CI tests per conditioning set size."
   ]
  },
  {
   "cell_type": "code",
   "execution_count": 12,
   "metadata": {
    "pycharm": {
     "name": "#%%\n"
    }
   },
   "outputs": [
    {
     "name": "stdout",
     "output_type": "stream",
     "text": [
      "\n",
      "ICD performance\n",
      "---------------\n",
      "Edge precision: 1.00\n",
      "Edge recall: 0.73\n",
      "F1 Score: 0.84\n",
      "Orientation accuracy: 0.52\n",
      "Total number of CI tests:  246\n",
      "\n",
      "FCI performance\n",
      "---------------\n",
      "Edge precision: 1.00\n",
      "Edge recall: 0.50\n",
      "F1 Score: 0.67\n",
      "Orientation accuracy: 0.36\n",
      "Total number of CI tests:  662\n"
     ]
    },
    {
     "data": {
      "text/plain": "<Figure size 432x288 with 1 Axes>",
      "image/png": "[encoded data removed]"
     },
     "metadata": {
      "needs_background": "light"
     },
     "output_type": "display_data"
    }
   ],
   "source": [
    "print('\\nICD performance')\n",
    "print('---------------')\n",
    "print_structural_accuracy(icd_result)\n",
    "print('Total number of CI tests: ', sum(par_corr_icd.test_counter))\n",
    "\n",
    "print('\\nFCI performance')\n",
    "print('---------------')\n",
    "print_structural_accuracy(fci_result)\n",
    "print('Total number of CI tests: ', sum(par_corr_fci.test_counter))\n",
    "\n",
    "plt.figure()\n",
    "x_range = range(len(par_corr_icd.test_counter))\n",
    "plt.plot(x_range, par_corr_fci.test_counter, 'xr:',\n",
    "         x_range, par_corr_icd.test_counter, 'ob:')\n",
    "plt.legend(('FCI', 'ICD'))\n",
    "plt.xlabel('conditioning set size')\n",
    "plt.ylabel('number of CI tests')\n",
    "plt.grid(True)\n",
    "plt.show()"
   ]
  },
  {
   "cell_type": "code",
   "execution_count": 12,
   "metadata": {},
   "outputs": [],
   "source": []
  }
 ],
 "metadata": {
  "kernelspec": {
   "display_name": "Python 3 (ipykernel)",
   "language": "python",
   "name": "python3"
  },
  "language_info": {
   "codemirror_mode": {
    "name": "ipython",
    "version": 3
   },
   "file_extension": ".py",
   "mimetype": "text/x-python",
   "name": "python",
   "nbconvert_exporter": "python",
   "pygments_lexer": "ipython3",
   "version": "3.8.11"
  }
 },
 "nbformat": 4,
 "nbformat_minor": 1
}